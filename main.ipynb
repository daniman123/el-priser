{
 "cells": [
  {
   "cell_type": "code",
   "execution_count": 229,
   "metadata": {},
   "outputs": [],
   "source": [
    "import requests\n",
    "import pandas as pd\n",
    "\n",
    "\n",
    "url = \"https://www.emd-international.com/el/fetch2.php?location=WEST&graph=1&start=2023-10-4&m=0.9042978232096179\"\n",
    "\n",
    "JSON_DATA_PRICE_INDEX = 5\n"
   ]
  },
  {
   "cell_type": "code",
   "execution_count": 230,
   "metadata": {},
   "outputs": [
    {
     "name": "stdout",
     "output_type": "stream",
     "text": [
      "Data retrieved successfully\n"
     ]
    }
   ],
   "source": [
    "response = requests.get(url)\n",
    "\n",
    "# Check if the request was successful (status code 200)\n",
    "if response.status_code == 200:\n",
    "    data = response.json()  # Parse the JSON response\n",
    "    print(\"Data retrieved successfully\")\n",
    "    # print(data)\n",
    "else:\n",
    "    print(f\"Request failed with status code {response.status_code}\")\n"
   ]
  },
  {
   "cell_type": "code",
   "execution_count": 231,
   "metadata": {},
   "outputs": [],
   "source": [
    "cols=['Column1', 'Column2', 'Column3', 'Column4', 'Column5', 'spot_pris', 'Column3']\n",
    "df = pd.DataFrame(data)\n",
    "df = df.transpose()\n",
    "df = df.drop(columns=[6,8,9,10])\n",
    "df.rename(columns={0: 'CentKraftvarmeprod', 1: 'DecentKraftvarmeprod',2: 'Vindmølleprod',3: 'Elforbrug',\n",
    "                    4: 'Elspotpris',5: 'Nedreguleringspris',7: 'Date'}, inplace=True)"
   ]
  },
  {
   "cell_type": "code",
   "execution_count": 232,
   "metadata": {},
   "outputs": [],
   "source": [
    "df[\"Date\"] = df[\"Date\"].astype(int)\n",
    "df[\"Date\"] = pd.to_datetime(df[\"Date\"], unit='s')\n",
    "\n"
   ]
  },
  {
   "cell_type": "code",
   "execution_count": 233,
   "metadata": {},
   "outputs": [
    {
     "data": {
      "text/html": [
       "<div>\n",
       "<style scoped>\n",
       "    .dataframe tbody tr th:only-of-type {\n",
       "        vertical-align: middle;\n",
       "    }\n",
       "\n",
       "    .dataframe tbody tr th {\n",
       "        vertical-align: top;\n",
       "    }\n",
       "\n",
       "    .dataframe thead th {\n",
       "        text-align: right;\n",
       "    }\n",
       "</style>\n",
       "<table border=\"1\" class=\"dataframe\">\n",
       "  <thead>\n",
       "    <tr style=\"text-align: right;\">\n",
       "      <th></th>\n",
       "      <th>CentKraftvarmeprod</th>\n",
       "      <th>DecentKraftvarmeprod</th>\n",
       "      <th>Vindmølleprod</th>\n",
       "      <th>Elforbrug</th>\n",
       "      <th>Elspotpris</th>\n",
       "      <th>Nedreguleringspris</th>\n",
       "      <th>Date</th>\n",
       "    </tr>\n",
       "  </thead>\n",
       "  <tbody>\n",
       "    <tr>\n",
       "      <th>0</th>\n",
       "      <td>1.0</td>\n",
       "      <td>188.0</td>\n",
       "      <td>2939.0</td>\n",
       "      <td>2576.0</td>\n",
       "      <td>0.97</td>\n",
       "      <td>37.290001</td>\n",
       "      <td>2023-10-04 00:00:00</td>\n",
       "    </tr>\n",
       "    <tr>\n",
       "      <th>1</th>\n",
       "      <td>1.0</td>\n",
       "      <td>184.0</td>\n",
       "      <td>2969.0</td>\n",
       "      <td>2665.0</td>\n",
       "      <td>0.00</td>\n",
       "      <td>0.000000</td>\n",
       "      <td>2023-10-04 00:05:00</td>\n",
       "    </tr>\n",
       "    <tr>\n",
       "      <th>2</th>\n",
       "      <td>1.0</td>\n",
       "      <td>181.0</td>\n",
       "      <td>3063.0</td>\n",
       "      <td>2718.0</td>\n",
       "      <td>0.00</td>\n",
       "      <td>0.000000</td>\n",
       "      <td>2023-10-04 00:10:00</td>\n",
       "    </tr>\n",
       "    <tr>\n",
       "      <th>3</th>\n",
       "      <td>1.0</td>\n",
       "      <td>176.0</td>\n",
       "      <td>3049.0</td>\n",
       "      <td>2676.0</td>\n",
       "      <td>0.00</td>\n",
       "      <td>0.000000</td>\n",
       "      <td>2023-10-04 00:15:00</td>\n",
       "    </tr>\n",
       "    <tr>\n",
       "      <th>4</th>\n",
       "      <td>1.0</td>\n",
       "      <td>174.0</td>\n",
       "      <td>3010.0</td>\n",
       "      <td>2601.0</td>\n",
       "      <td>0.00</td>\n",
       "      <td>0.000000</td>\n",
       "      <td>2023-10-04 00:20:00</td>\n",
       "    </tr>\n",
       "  </tbody>\n",
       "</table>\n",
       "</div>"
      ],
      "text/plain": [
       "   CentKraftvarmeprod  DecentKraftvarmeprod  Vindmølleprod  Elforbrug  \\\n",
       "0                 1.0                 188.0         2939.0     2576.0   \n",
       "1                 1.0                 184.0         2969.0     2665.0   \n",
       "2                 1.0                 181.0         3063.0     2718.0   \n",
       "3                 1.0                 176.0         3049.0     2676.0   \n",
       "4                 1.0                 174.0         3010.0     2601.0   \n",
       "\n",
       "   Elspotpris  Nedreguleringspris                Date  \n",
       "0        0.97           37.290001 2023-10-04 00:00:00  \n",
       "1        0.00            0.000000 2023-10-04 00:05:00  \n",
       "2        0.00            0.000000 2023-10-04 00:10:00  \n",
       "3        0.00            0.000000 2023-10-04 00:15:00  \n",
       "4        0.00            0.000000 2023-10-04 00:20:00  "
      ]
     },
     "execution_count": 233,
     "metadata": {},
     "output_type": "execute_result"
    }
   ],
   "source": [
    "df.head()\n"
   ]
  }
 ],
 "metadata": {
  "kernelspec": {
   "display_name": "Python 3",
   "language": "python",
   "name": "python3"
  },
  "language_info": {
   "codemirror_mode": {
    "name": "ipython",
    "version": 3
   },
   "file_extension": ".py",
   "mimetype": "text/x-python",
   "name": "python",
   "nbconvert_exporter": "python",
   "pygments_lexer": "ipython3",
   "version": "3.11.3"
  },
  "orig_nbformat": 4
 },
 "nbformat": 4,
 "nbformat_minor": 2
}
